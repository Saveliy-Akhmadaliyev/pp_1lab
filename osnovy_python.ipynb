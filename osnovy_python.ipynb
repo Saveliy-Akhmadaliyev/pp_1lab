{
  "cells": [
    {
      "cell_type": "code",
      "source": [
        "import doctest\n",
        "from IPython.core.magic import register_cell_magic\n",
        "\n",
        "# Магия ячейки для запуска doctest\n",
        "@register_cell_magic\n",
        "def doctest_magic(line, cell):\n",
        "    # Инициализируем код из ячейки\n",
        "    exec(cell, globals())\n",
        "\n",
        "    # Ищем все локальные объекты\n",
        "    local_vars = {}\n",
        "    exec(cell, globals(), local_vars)\n",
        "\n",
        "    # Проходим по всем объектам в локальных переменных и ищем docstring'и для тестирования\n",
        "    for name, obj in local_vars.items():\n",
        "        if callable(obj):  # Проверяем, объект является функцией или классом\n",
        "            print(f\"Running doctests for {name}...\\n\")\n",
        "            try:\n",
        "                doctest.run_docstring_examples(obj, globals(), name=name, verbose=True)\n",
        "            except Exception as e:\n",
        "                print(f\"Error running doctests for {name}: {e}\")"
      ],
      "metadata": {
        "id": "mZsi-JVl392Y"
      },
      "execution_count": 1,
      "outputs": []
    },
    {
      "cell_type": "markdown",
      "metadata": {
        "id": "M-DGa20PaHnu"
      },
      "source": [
        "#Задача 1\n",
        "Написать функцию на вход которой подается строка, состоящая из латинских букв.\n",
        "Функция должна вернуть количество гласных букв (a, e, i, o, u) в этой строке. Написать тесты для кода"
      ]
    },
    {
      "cell_type": "code",
      "execution_count": 12,
      "metadata": {
        "id": "XvX8X_JJ6PCb",
        "colab": {
          "base_uri": "https://localhost:8080/"
        },
        "outputId": "648f205c-5d5a-4656-80bc-3306758dd043"
      },
      "outputs": [
        {
          "output_type": "stream",
          "name": "stdout",
          "text": [
            "Running doctests for counting...\n",
            "\n",
            "Finding tests in counting\n",
            "Trying:\n",
            "    counting(\"saaauui\")\n",
            "Expecting:\n",
            "    6\n",
            "ok\n",
            "Trying:\n",
            "    counting(\"slk\")\n",
            "Expecting:\n",
            "    0\n",
            "ok\n"
          ]
        }
      ],
      "source": [
        "%%doctest_magic\n",
        "def counting(s):\n",
        "  \"\"\"\n",
        "  >>> counting(\"saaauui\")\n",
        "  6\n",
        "  >>> counting(\"slk\")\n",
        "  0\n",
        "  \"\"\"\n",
        "  s = s.lower()\n",
        "  letters = \"aeiou\"\n",
        "  cnt = sum(s.count(e) for e in letters)\n",
        "  print(cnt)"
      ]
    },
    {
      "cell_type": "markdown",
      "metadata": {
        "id": "t2ClV_Y0bbr6"
      },
      "source": [
        "# Задача 2\n",
        "Написать функцию на вход, которой подается строка. Функция должна вернуть true, если\n",
        "каждый символ в строке встречается только 1 раз, иначе должна вернуть false. Написать тесты для кода"
      ]
    },
    {
      "cell_type": "code",
      "execution_count": 13,
      "metadata": {
        "id": "FppbECao6VIz",
        "colab": {
          "base_uri": "https://localhost:8080/"
        },
        "outputId": "522bc01f-ece0-40d5-ba39-8149f49eb03a"
      },
      "outputs": [
        {
          "output_type": "stream",
          "name": "stdout",
          "text": [
            "Running doctests for isUniqeString...\n",
            "\n",
            "Finding tests in isUniqeString\n",
            "Trying:\n",
            "    isUniqeString(\"sssp\")\n",
            "Expecting:\n",
            "    False\n",
            "ok\n",
            "Trying:\n",
            "    isUniqeString(\"stp\")\n",
            "Expecting:\n",
            "    True\n",
            "ok\n"
          ]
        }
      ],
      "source": [
        "%%doctest_magic\n",
        "def isUniqeString(s):\n",
        "  \"\"\"\n",
        "  >>> isUniqeString(\"sssp\")\n",
        "  False\n",
        "  >>> isUniqeString(\"stp\")\n",
        "  True\n",
        "  \"\"\"\n",
        "  setted = set(s)\n",
        "  print(len(setted) == len(s))"
      ]
    },
    {
      "cell_type": "markdown",
      "metadata": {
        "id": "udRiIK1cdt6E"
      },
      "source": [
        "# Задача 3\n",
        "Написать функцию, которая принимает положительное число и возвращает количество\n",
        "бит равных 1 в этом числе. Написать тесты для кода"
      ]
    },
    {
      "cell_type": "code",
      "execution_count": 14,
      "metadata": {
        "id": "6tkfDJRz6dp_",
        "colab": {
          "base_uri": "https://localhost:8080/"
        },
        "outputId": "2b097444-2423-421a-8a3f-140caf529248"
      },
      "outputs": [
        {
          "output_type": "stream",
          "name": "stdout",
          "text": [
            "Running doctests for oneCounting...\n",
            "\n",
            "Finding tests in oneCounting\n",
            "Trying:\n",
            "    oneCounting(3)\n",
            "Expecting:\n",
            "    2\n",
            "ok\n",
            "Trying:\n",
            "    oneCounting(1024)\n",
            "Expecting:\n",
            "    1\n",
            "ok\n"
          ]
        }
      ],
      "source": [
        "%%doctest_magic\n",
        "def oneCounting(n):\n",
        "  \"\"\"\n",
        "  >>> oneCounting(3)\n",
        "  2\n",
        "  >>> oneCounting(1024)\n",
        "  1\n",
        "  \"\"\"\n",
        "  binned = bin(n)\n",
        "  cnt = binned.count('1')\n",
        "  print(cnt)"
      ]
    },
    {
      "cell_type": "markdown",
      "metadata": {
        "id": "26dDUz-Ae17N"
      },
      "source": [
        "# Задача 4\n",
        "Написать функцию, которая принимает положительное число. Функция должна вернуть то,\n",
        "сколько раз необходимо перемножать цифры числа или результат перемножения, чтобы\n",
        "получилось число состоящее из одной цифры.\n",
        "Например, для входного числа:\n",
        "· 39 функция должна вернуть 3, так как 3*9=27 => 2*7=14 => 1*4=4\n",
        "· 4 функция должна вернуть 0, так как число уже состоит из одной цифры\n",
        "· 999 функция должна вернуть 4, так как 9*9*9=729 => 7*2*9=126 => 1*2*6=12 =>\n",
        "1*2=2. Написать тесты для кода"
      ]
    },
    {
      "cell_type": "code",
      "execution_count": 18,
      "metadata": {
        "id": "BH1A_Mgi6i4G",
        "colab": {
          "base_uri": "https://localhost:8080/"
        },
        "outputId": "f9274d5a-edb1-4b4e-d3f6-216c4772fb1b"
      },
      "outputs": [
        {
          "output_type": "stream",
          "name": "stdout",
          "text": [
            "Running doctests for magic...\n",
            "\n",
            "Finding tests in magic\n",
            "Trying:\n",
            "    magic(39, 0)\n",
            "Expecting:\n",
            "    3\n",
            "ok\n",
            "Trying:\n",
            "    magic(2, 0)\n",
            "Expecting:\n",
            "    0\n",
            "ok\n"
          ]
        }
      ],
      "source": [
        "%%doctest_magic\n",
        "def magic(n, cnt):\n",
        "  \"\"\"\n",
        "  >>> magic(39, 0)\n",
        "  3\n",
        "  >>> magic(2, 0)\n",
        "  0\n",
        "  \"\"\"\n",
        "  if n < 10:\n",
        "    return cnt\n",
        "  k = 1\n",
        "  while n > 0:\n",
        "    k *= n % 10\n",
        "    n //= 10\n",
        "  cnt = magic(k, cnt + 1)\n",
        "  return cnt"
      ]
    },
    {
      "cell_type": "markdown",
      "metadata": {
        "id": "0nS-kIa8g8vd"
      },
      "source": [
        "# Задача 5\n",
        "Написать функцию, которая принимает два целочисленных вектора одинаковой длины и\n",
        "возвращает среднеквадратическое отклонение двух векторов. Написать тесты для кода"
      ]
    },
    {
      "cell_type": "code",
      "execution_count": 27,
      "metadata": {
        "id": "8iphx4LM6xbx",
        "colab": {
          "base_uri": "https://localhost:8080/"
        },
        "outputId": "a45db565-bc85-4f42-f76e-0551a7db8568"
      },
      "outputs": [
        {
          "output_type": "stream",
          "name": "stdout",
          "text": [
            "Running doctests for mse...\n",
            "\n",
            "Finding tests in mse\n",
            "Trying:\n",
            "    mse([1, 1, 1], [-1, -1, -1])\n",
            "Expecting:\n",
            "    0.0 0.0\n",
            "ok\n"
          ]
        }
      ],
      "source": [
        "%%doctest_magic\n",
        "def mse(pred, true):\n",
        "  \"\"\"\n",
        "  >>> mse([1, 1, 1], [-1, -1, -1])\n",
        "  0.0 0.0\n",
        "  \"\"\"\n",
        "  n1 = sum(pred) / len(pred)\n",
        "  otcl1 = (sum((x - n1) ** 2 for x in pred) / len(pred)) ** 0.5\n",
        "\n",
        "  n2 = sum(true) / len(true)\n",
        "  otcl2 = (sum((y - n2) ** 2 for y in true) / len(true)) ** 0.5\n",
        "\n",
        "  print(otcl1, otcl2)"
      ]
    },
    {
      "cell_type": "markdown",
      "metadata": {
        "id": "vpIPKL439zkw"
      },
      "source": [
        "# Задача 6\n",
        "Написать функцию, принимающая целое положительное число. Функция должна вернуть\n",
        "строку вида “(n1**p1)(n2**p2)…(nk**pk)” представляющая разложение числа на простые\n",
        "множители (если pi == 1, то выводить только ni).\n",
        "Например, для числа 86240 функция должна вернуть “(2**5)(5)(7**2)(11)”. Написать тесты для кода"
      ]
    },
    {
      "cell_type": "code",
      "execution_count": 32,
      "metadata": {
        "id": "pFebmcZk94Jw",
        "colab": {
          "base_uri": "https://localhost:8080/"
        },
        "outputId": "dd5d45e4-40cb-4d91-838a-4ae67ade5a41"
      },
      "outputs": [
        {
          "output_type": "stream",
          "name": "stdout",
          "text": [
            "Running doctests for magic...\n",
            "\n",
            "Finding tests in magic\n",
            "Trying:\n",
            "    magic(86240)\n",
            "Expecting:\n",
            "    '(5**2)(5)(2**7)(11)'\n",
            "ok\n"
          ]
        }
      ],
      "source": [
        "%%doctest_magic\n",
        "def magic(n):\n",
        "  \"\"\"\n",
        "  >>> magic(86240)\n",
        "  '(5**2)(5)(2**7)(11)'\n",
        "  \"\"\"\n",
        "  nums = {}\n",
        "  while n % 2 == 0:\n",
        "    if 2 in nums:\n",
        "      nums[2] += 1\n",
        "    else:\n",
        "      nums[2] = 1\n",
        "    n //= 2\n",
        "\n",
        "  for i in range(3, int(n**0.5) + 1, 2):\n",
        "    while n % i == 0:\n",
        "      if i in nums:\n",
        "        nums[i] += 1\n",
        "      else:\n",
        "        nums[i] = 1\n",
        "      n //= i\n",
        "\n",
        "  if n > 2:\n",
        "    nums[n] = 1\n",
        "\n",
        "  result = []\n",
        "  for n1, n2 in nums.items():\n",
        "    if n2 > 1:\n",
        "      result.append(f\"({n2}**{n1})\")\n",
        "    else:\n",
        "      result.append(f\"({n1})\")\n",
        "\n",
        "  return ''.join(result)"
      ]
    },
    {
      "cell_type": "markdown",
      "metadata": {
        "id": "ps2s0BudX7A2"
      },
      "source": [
        "# Задача 7\n",
        "Написать функцию, принимающая целое число n, задающее количество кубиков. Функция\n",
        "должна определить, можно ли из данного кол-ва кубиков построить пирамиду, то есть\n",
        "можно ли представить число n как 1^2+2^2+3^2+…+k^2. Если можно, то функция должна\n",
        "вернуть k, иначе строку “It is impossible”. Написать тесты для кода"
      ]
    },
    {
      "cell_type": "code",
      "execution_count": 38,
      "metadata": {
        "id": "3YPjEXxhX_YT",
        "colab": {
          "base_uri": "https://localhost:8080/"
        },
        "outputId": "ad341643-387f-46e2-e3ac-a844f68617a6"
      },
      "outputs": [
        {
          "output_type": "stream",
          "name": "stdout",
          "text": [
            "Running doctests for pyramid...\n",
            "\n",
            "Finding tests in pyramid\n",
            "Trying:\n",
            "    pyramid(5)\n",
            "Expecting:\n",
            "    2\n",
            "ok\n",
            "Trying:\n",
            "    pyramid(4)\n",
            "Expecting:\n",
            "    'It is impossible'\n",
            "ok\n"
          ]
        }
      ],
      "source": [
        "%%doctest_magic\n",
        "def pyramid(number):\n",
        "  \"\"\"\n",
        "  >>> pyramid(5)\n",
        "  2\n",
        "  >>> pyramid(4)\n",
        "  'It is impossible'\n",
        "  \"\"\"\n",
        "  k = 1\n",
        "  suma = 0\n",
        "\n",
        "  while suma < number:\n",
        "    suma += k**2\n",
        "    if suma == number:\n",
        "      return k\n",
        "    k += 1\n",
        "\n",
        "  return \"It is impossible\""
      ]
    },
    {
      "cell_type": "markdown",
      "metadata": {
        "id": "KeKgmIdAQMEJ"
      },
      "source": [
        "# Задача 8\n",
        "Функция принимает на вход положительное число и определяет является ли оно сбалансированным, т.е. сумма цифр до средних равна сумме цифр после. Средними в случае нечетного числа цифр считать одну цифру, в случае четного - две средних. Написать тесты для кода"
      ]
    },
    {
      "cell_type": "code",
      "execution_count": 41,
      "metadata": {
        "id": "gMAAqtqlQrZt",
        "colab": {
          "base_uri": "https://localhost:8080/"
        },
        "outputId": "a83dab7e-0a12-4bcb-a1df-c2049945ff15"
      },
      "outputs": [
        {
          "output_type": "stream",
          "name": "stdout",
          "text": [
            "Running doctests for isBalancedNumber...\n",
            "\n",
            "Finding tests in isBalancedNumber\n",
            "Trying:\n",
            "    isBalancedNumber(999)\n",
            "Expecting:\n",
            "    True\n",
            "ok\n",
            "Trying:\n",
            "    isBalancedNumber(22)\n",
            "Expecting:\n",
            "    True\n",
            "ok\n",
            "Trying:\n",
            "    isBalancedNumber(123)\n",
            "Expecting:\n",
            "    False\n",
            "ok\n"
          ]
        }
      ],
      "source": [
        "%%doctest_magic\n",
        "def isBalancedNumber(n):\n",
        "  \"\"\"\n",
        "  >>> isBalancedNumber(999)\n",
        "  True\n",
        "  >>> isBalancedNumber(22)\n",
        "  True\n",
        "  >>> isBalancedNumber(123)\n",
        "  False\n",
        "  \"\"\"\n",
        "  strN = str(n)\n",
        "  l = len(strN)\n",
        "\n",
        "  if l % 2 == 0:\n",
        "    mid = l // 2\n",
        "    lSum = sum(int(digit) for digit in strN[:mid])\n",
        "    rSum = sum(int(digit) for digit in strN[mid:])\n",
        "  else:\n",
        "    mid = l // 2\n",
        "    lSum = sum(int(digit) for digit in strN[:mid])\n",
        "    rSum = sum(int(digit) for digit in strN[mid + 1:])\n",
        "\n",
        "  return lSum == rSum"
      ]
    }
  ],
  "metadata": {
    "colab": {
      "provenance": []
    },
    "kernelspec": {
      "display_name": "Python 3 (ipykernel)",
      "language": "python",
      "name": "python3"
    },
    "language_info": {
      "codemirror_mode": {
        "name": "ipython",
        "version": 3
      },
      "file_extension": ".py",
      "mimetype": "text/x-python",
      "name": "python",
      "nbconvert_exporter": "python",
      "pygments_lexer": "ipython3",
      "version": "3.12.3"
    }
  },
  "nbformat": 4,
  "nbformat_minor": 0
}